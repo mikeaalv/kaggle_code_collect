{
 "cells": [
  {
   "cell_type": "code",
   "execution_count": 1,
   "metadata": {
    "_cell_guid": "b1076dfc-b9ad-4769-8c92-a6c4dae69d19",
    "_uuid": "8f2839f25d086af736a60e9eeb907d3b93b6e0e5"
   },
   "outputs": [
    {
     "name": "stdout",
     "output_type": "stream",
     "text": [
      "/kaggle/input/titanic/test.csv\n",
      "/kaggle/input/titanic/train.csv\n",
      "/kaggle/input/titanic/gender_submission.csv\n"
     ]
    }
   ],
   "source": [
    "# This Python 3 environment comes with many helpful analytics libraries installed\n",
    "# It is defined by the kaggle/python docker image: https://github.com/kaggle/docker-python\n",
    "# For example, here's several helpful packages to load in \n",
    "\n",
    "import numpy as np # linear algebra\n",
    "import pandas as pd # data processing, CSV file I/O (e.g. pd.read_csv)\n",
    "import xgboost as xgb #xgboost\n",
    "from sklearn.preprocessing import LabelEncoder #encoding string\n",
    "from sklearn.model_selection import KFold, GridSearchCV # cv and parameter search\n",
    "from sklearn.metrics import confusion_matrix, accuracy_score\n",
    "import pandas as pd\n",
    "\n",
    "rng=np.random.RandomState(1)\n",
    "# Input data files are available in the \"../input/\" directory.\n",
    "# For example, running this (by clicking run or pressing Shift+Enter) will list all files under the input directory\n",
    "\n",
    "import os\n",
    "for dirname, _, filenames in os.walk('/kaggle/input'):\n",
    "    for filename in filenames:\n",
    "        print(os.path.join(dirname, filename))\n",
    "\n",
    "# Any results you write to the current directory are saved as output."
   ]
  },
  {
   "cell_type": "code",
   "execution_count": 2,
   "metadata": {
    "_cell_guid": "",
    "_uuid": ""
   },
   "outputs": [],
   "source": [
    "\n",
    "gender_submission = pd.read_csv(\"../input/titanic/gender_submission.csv\")\n",
    "test_data = pd.read_csv(\"../input/titanic/test.csv\")\n",
    "train_data = pd.read_csv(\"../input/titanic/train.csv\")\n",
    "# train_data.head()"
   ]
  },
  {
   "cell_type": "code",
   "execution_count": 3,
   "metadata": {},
   "outputs": [],
   "source": [
    "# test_data.head()"
   ]
  },
  {
   "cell_type": "code",
   "execution_count": 4,
   "metadata": {},
   "outputs": [],
   "source": [
    "##features used in training\n",
    "selefeature=['Pclass','Sex','Age','SibSp','Parch','Fare']\n",
    "predfeature=['Survived']\n",
    "tempx=train_data[selefeature].append(test_data[selefeature])\n",
    "allx=tempx.copy()\n",
    "# check nan value\n",
    "# type(allx)\n",
    "# allx.isnull().sum()\n",
    "# np.flatnonzero(allx['Fare'].isnull()==True)\n",
    "# use median in train and test data set to replace nan\n",
    "agenanind=allx['Age'].isnull()\n",
    "allx.loc[agenanind,'Age']=allx.loc[~agenanind,'Age'].median()\n",
    "# deal with the only nan in Fare\n",
    "farenanind=allx['Fare'].isnull()\n",
    "allx.loc[farenanind,'Fare']=allx.loc[~farenanind,'Fare'].median()\n",
    "#columne to add to for nan in age\n",
    "allx['agenonexist']=agenanind.astype(int)\n",
    "##encoder sex\n",
    "le=LabelEncoder()\n",
    "allx['Sex']=le.fit_transform(allx['Sex'])\n",
    "# allx.head()"
   ]
  },
  {
   "cell_type": "code",
   "execution_count": 5,
   "metadata": {},
   "outputs": [],
   "source": [
    "## data formulation\n",
    "indcut=train_data.shape[0]\n",
    "alllen=allx.shape[0]\n",
    "trainvalid_x=allx.iloc[0:indcut].values.copy()\n",
    "test_x=allx.iloc[indcut:alllen].values.copy()\n",
    "trainvalid_y=train_data[predfeature].values.copy()"
   ]
  },
  {
   "cell_type": "code",
   "execution_count": 6,
   "metadata": {},
   "outputs": [],
   "source": [
    "# # parameter searching? 6 100\n",
    "# gbm=xgb.XGBClassifier()\n",
    "# clf = GridSearchCV(gbm,{'max_depth': [2,4,6],'n_estimators': [50,100,200,500]},verbose=1)\n",
    "# clf.fit(trainvalid_x,trainvalid_y[:,0])\n",
    "# print(clf.best_score_)\n",
    "# print(clf.best_params_)"
   ]
  },
  {
   "cell_type": "code",
   "execution_count": 7,
   "metadata": {},
   "outputs": [
    {
     "name": "stdout",
     "output_type": "stream",
     "text": [
      "0.8\n",
      "0.8089887640449438\n",
      "0.7528089887640449\n",
      "0.8202247191011236\n",
      "0.8202247191011236\n",
      "0.8426966292134831\n",
      "0.8876404494382022\n",
      "0.8314606741573034\n",
      "0.8651685393258427\n",
      "0.8314606741573034\n"
     ]
    }
   ],
   "source": [
    "#crosss validation training \n",
    "kf=KFold(n_splits=10,shuffle=True,random_state=rng)\n",
    "for train_index,valid_index in kf.split(trainvalid_x):\n",
    "    gbm=xgb.XGBClassifier(max_depth=6,n_estimators=100).fit(trainvalid_x[train_index],trainvalid_y[train_index,0])\n",
    "    predictions=gbm.predict(trainvalid_x[valid_index])\n",
    "    actuals=trainvalid_y[valid_index,0]\n",
    "#     print(confusion_matrix(actuals,predictions))\n",
    "    print(accuracy_score(actuals,predictions))"
   ]
  },
  {
   "cell_type": "code",
   "execution_count": 8,
   "metadata": {},
   "outputs": [],
   "source": [
    "#trainign on whole train data set\n",
    "gbm=xgb.XGBClassifier(max_depth=6,n_estimators=100).fit(trainvalid_x,trainvalid_y[:,0])\n",
    "predictions=gbm.predict(test_x)"
   ]
  },
  {
   "cell_type": "code",
   "execution_count": 9,
   "metadata": {},
   "outputs": [],
   "source": [
    "submission=pd.DataFrame({ 'PassengerId': test_data['PassengerId'],\n",
    "                            'Survived': predictions})\n",
    "submission.to_csv(\"submission.csv\",index=False)"
   ]
  }
 ],
 "metadata": {
  "kernelspec": {
   "display_name": "Python 3",
   "language": "python",
   "name": "python3"
  },
  "language_info": {
   "codemirror_mode": {
    "name": "ipython",
    "version": 3
   },
   "file_extension": ".py",
   "mimetype": "text/x-python",
   "name": "python",
   "nbconvert_exporter": "python",
   "pygments_lexer": "ipython3",
   "version": "3.6.6"
  }
 },
 "nbformat": 4,
 "nbformat_minor": 1
}
